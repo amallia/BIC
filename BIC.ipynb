{
 "cells": [
  {
   "cell_type": "code",
   "execution_count": 558,
   "metadata": {},
   "outputs": [],
   "source": [
    "import math \n",
    "  \n",
    "def msb(x):\n",
    "    return x.bit_length()\n",
    "\n",
    "\n",
    "def write(out, value, universe):\n",
    "    b = msb(universe)\n",
    "    m =  (int(1) << (b + 1)) - universe\n",
    "    if value < m:\n",
    "        if b > 0:\n",
    "            out += BitVector.BitVector( intVal = value, size = b)\n",
    "    else:\n",
    "        value += m;\n",
    "        if b > 0:\n",
    "            out += BitVector.BitVector( intVal = (value >> 1), size = b)\n",
    "        out += BitVector.BitVector( intVal = (value & 1), size = 1 )\n",
    "    return out \n",
    "\n",
    "def read(inp, universe):\n",
    "    b = msb(universe)\n",
    "    m = (int(1) << (b+1)) - universe\n",
    "    val = inp[:b].int_val()\n",
    "    if inp.length() > b:\n",
    "        inp = inp[b:]\n",
    "    else:\n",
    "        inp =  BitVector.BitVector(size = 0)\n",
    "    if val >= m:\n",
    "        val = (val << 1) + inp[:1].int_val() - m\n",
    "        if inp.length() > 1:\n",
    "            inp = inp[1:]\n",
    "        else:\n",
    "            inp =  BitVector.BitVector(size = 0)\n",
    "    return val, inp;\n",
    "\n",
    "def ipc_encode(out, inp, n, low, high):\n",
    "    if n > 0:\n",
    "        mid_pos = int(n/2)\n",
    "        mid_value = inp[mid_pos]\n",
    "        out = write(out, mid_value - low - mid_pos, high - low - n + 1)\n",
    "        out = ipc_encode(out, inp[:mid_pos], mid_pos, low, mid_value)\n",
    "        out = ipc_encode(out, inp[mid_pos+1:], n - mid_pos - 1, mid_value, high)\n",
    "    return out\n",
    "\n",
    "def ipc_decode(inp, n, low, high):\n",
    "    mid_pos = int(n/2)\n",
    "    v, inp = read(inp, high - low - n + 1)\n",
    "    value = low + v + mid_pos\n",
    "    if n == 1:\n",
    "        return [value], inp\n",
    "    l = []\n",
    "    if mid_pos > 0:\n",
    "        l, inp = ipc_decode(inp, mid_pos, low, value)\n",
    "    r = []\n",
    "    if (n - mid_pos - 1) > 0:\n",
    "        r, inp = ipc_decode(inp, n - mid_pos - 1, value, high)\n",
    "    return  l + [value] + r, inp\n"
   ]
  },
  {
   "cell_type": "code",
   "execution_count": 583,
   "metadata": {},
   "outputs": [
    {
     "name": "stdout",
     "output_type": "stream",
     "text": [
      "Bits/int:  1.9090909090909092\n",
      "No Error :)\n"
     ]
    }
   ],
   "source": [
    "import BitVector\n",
    "\n",
    "out  = BitVector.BitVector(size = 0)\n",
    "l = sorted(random.sample(range(0, 100), 99))\n",
    "out = ipc_encode(out, l, len(l), min(l), max(l))\n",
    "print(\"Bits/int: \", out.length()/len(l))\n",
    "decoded_list = ipc_decode(out, len(l), min(l), max(l))[0]\n",
    "\n",
    "if decoded_list != l:\n",
    "    print(\"Error\")\n",
    "else:\n",
    "    print(\"No Error :)\")"
   ]
  }
 ],
 "metadata": {
  "kernelspec": {
   "display_name": "Python 3",
   "language": "python",
   "name": "python3"
  },
  "language_info": {
   "codemirror_mode": {
    "name": "ipython",
    "version": 3
   },
   "file_extension": ".py",
   "mimetype": "text/x-python",
   "name": "python",
   "nbconvert_exporter": "python",
   "pygments_lexer": "ipython3",
   "version": "3.7.2"
  }
 },
 "nbformat": 4,
 "nbformat_minor": 2
}
